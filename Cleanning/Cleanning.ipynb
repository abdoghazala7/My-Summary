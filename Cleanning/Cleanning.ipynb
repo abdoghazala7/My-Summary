{
 "cells": [
  {
   "cell_type": "markdown",
   "metadata": {
    "id": "ZIEI5NzckV8F"
   },
   "source": [
    "# Project: cleanning - [candy data]\n",
    "### this notebook is for educational purpose . in this notebook we will do some cleanning\n",
    "\n",
    "## Table of Contents\n",
    "<ul>\n",
    "<li><a href=\"#intro\">Introduction</a></li>\n",
    "<li><a href=\"#wrangling\">wrangling</a></li>\n",
    "  \n",
    "</ul>"
   ]
  },
  {
   "cell_type": "markdown",
   "metadata": {
    "id": "c7pAK8ZDkV8I"
   },
   "source": [
    "<a id='intro'></a>\n",
    "## Introduction\n",
    "\n",
    "### Dataset Description\n",
    "\n",
    "> i will go through candy data 2017 , this data has :\n",
    "- Internal_ID\n",
    "- Q1-Going Out?: Are you actually going trick or treating yourself? \"has values `Yes or No`\"\n",
    "- Q2-Gender: It has four different options, `Femal ,Male ,Other ,I'd rather not say`\n",
    "- Q3-Age: Numerical field\n",
    "- Q4-Country: Text Field, but users have written their own version of the names. Example, for America, there are entries such as USA, us, US, America so we should consider that while cleanning\n",
    "- Q5-State/Province: Text Field, but users have written their own version of the names. Same as the country data.\n",
    "- Q6-Joy Or Despair: All kinds of chocolate bars are the questions with three distinct options to choose from (Joy, Meh, Despair).\n",
    "- Q7-Joy Other: Text Field to write items not included above that give you JOY. Lots of missing values.\n",
    "- Q8-Despair Other: Text Field ti write items not included above that give you DESPAIR. Lots of missing values.\n",
    "- Q9-Other Comments: Text Field. Lots of missing values.\n",
    "- Q10-Dress: Binary field. Missing values present\n",
    "- Unnamed: 113\n",
    "- Q11-Day: Binary Answer Field. Missing values present\n"
   ]
  },
  {
   "cell_type": "markdown",
   "metadata": {
    "id": "Pyi8wjFokV8J"
   },
   "source": [
    "# 1- import packages and load data"
   ]
  },
  {
   "cell_type": "code",
   "execution_count": 73,
   "metadata": {
    "colab": {
     "base_uri": "https://localhost:8080/"
    },
    "id": "Hu_O9-8nkV8J",
    "outputId": "d5f67a09-d98b-4fd3-ad2a-4b984c350bcb"
   },
   "outputs": [
    {
     "data": {
      "text/html": [
       "<div>\n",
       "<style scoped>\n",
       "    .dataframe tbody tr th:only-of-type {\n",
       "        vertical-align: middle;\n",
       "    }\n",
       "\n",
       "    .dataframe tbody tr th {\n",
       "        vertical-align: top;\n",
       "    }\n",
       "\n",
       "    .dataframe thead th {\n",
       "        text-align: right;\n",
       "    }\n",
       "</style>\n",
       "<table border=\"1\" class=\"dataframe\">\n",
       "  <thead>\n",
       "    <tr style=\"text-align: right;\">\n",
       "      <th></th>\n",
       "      <th>Internal ID</th>\n",
       "      <th>Q1: GOING OUT?</th>\n",
       "      <th>Q2: GENDER</th>\n",
       "      <th>Q3: AGE</th>\n",
       "      <th>Q4: COUNTRY</th>\n",
       "      <th>Q5: STATE, PROVINCE, COUNTY, ETC</th>\n",
       "      <th>Q6 | 100 Grand Bar</th>\n",
       "      <th>Q6 | Anonymous brown globs that come in black and orange wrappers\\t(a.k.a. Mary Janes)</th>\n",
       "      <th>Q6 | Any full-sized candy bar</th>\n",
       "      <th>Q6 | Black Jacks</th>\n",
       "      <th>...</th>\n",
       "      <th>Q8: DESPAIR OTHER</th>\n",
       "      <th>Q9: OTHER COMMENTS</th>\n",
       "      <th>Q10: DRESS</th>\n",
       "      <th>Unnamed: 113</th>\n",
       "      <th>Q11: DAY</th>\n",
       "      <th>Q12: MEDIA [Daily Dish]</th>\n",
       "      <th>Q12: MEDIA [Science]</th>\n",
       "      <th>Q12: MEDIA [ESPN]</th>\n",
       "      <th>Q12: MEDIA [Yahoo]</th>\n",
       "      <th>Click Coordinates (x, y)</th>\n",
       "    </tr>\n",
       "  </thead>\n",
       "  <tbody>\n",
       "    <tr>\n",
       "      <th>0</th>\n",
       "      <td>90258773</td>\n",
       "      <td>NaN</td>\n",
       "      <td>NaN</td>\n",
       "      <td>NaN</td>\n",
       "      <td>NaN</td>\n",
       "      <td>NaN</td>\n",
       "      <td>NaN</td>\n",
       "      <td>NaN</td>\n",
       "      <td>NaN</td>\n",
       "      <td>NaN</td>\n",
       "      <td>...</td>\n",
       "      <td>NaN</td>\n",
       "      <td>NaN</td>\n",
       "      <td>NaN</td>\n",
       "      <td>NaN</td>\n",
       "      <td>NaN</td>\n",
       "      <td>NaN</td>\n",
       "      <td>NaN</td>\n",
       "      <td>NaN</td>\n",
       "      <td>NaN</td>\n",
       "      <td>NaN</td>\n",
       "    </tr>\n",
       "    <tr>\n",
       "      <th>1</th>\n",
       "      <td>90272821</td>\n",
       "      <td>No</td>\n",
       "      <td>Male</td>\n",
       "      <td>44</td>\n",
       "      <td>USA</td>\n",
       "      <td>NM</td>\n",
       "      <td>MEH</td>\n",
       "      <td>DESPAIR</td>\n",
       "      <td>JOY</td>\n",
       "      <td>MEH</td>\n",
       "      <td>...</td>\n",
       "      <td>NaN</td>\n",
       "      <td>Bottom line is Twix is really the only candy w...</td>\n",
       "      <td>White and gold</td>\n",
       "      <td>NaN</td>\n",
       "      <td>Sunday</td>\n",
       "      <td>NaN</td>\n",
       "      <td>1.0</td>\n",
       "      <td>NaN</td>\n",
       "      <td>NaN</td>\n",
       "      <td>(84, 25)</td>\n",
       "    </tr>\n",
       "    <tr>\n",
       "      <th>2</th>\n",
       "      <td>90272829</td>\n",
       "      <td>NaN</td>\n",
       "      <td>Male</td>\n",
       "      <td>49</td>\n",
       "      <td>USA</td>\n",
       "      <td>Virginia</td>\n",
       "      <td>NaN</td>\n",
       "      <td>NaN</td>\n",
       "      <td>NaN</td>\n",
       "      <td>NaN</td>\n",
       "      <td>...</td>\n",
       "      <td>NaN</td>\n",
       "      <td>NaN</td>\n",
       "      <td>NaN</td>\n",
       "      <td>NaN</td>\n",
       "      <td>NaN</td>\n",
       "      <td>NaN</td>\n",
       "      <td>NaN</td>\n",
       "      <td>NaN</td>\n",
       "      <td>NaN</td>\n",
       "      <td>NaN</td>\n",
       "    </tr>\n",
       "    <tr>\n",
       "      <th>3</th>\n",
       "      <td>90272840</td>\n",
       "      <td>No</td>\n",
       "      <td>Male</td>\n",
       "      <td>40</td>\n",
       "      <td>us</td>\n",
       "      <td>or</td>\n",
       "      <td>MEH</td>\n",
       "      <td>DESPAIR</td>\n",
       "      <td>JOY</td>\n",
       "      <td>MEH</td>\n",
       "      <td>...</td>\n",
       "      <td>NaN</td>\n",
       "      <td>Raisins can go to hell</td>\n",
       "      <td>White and gold</td>\n",
       "      <td>NaN</td>\n",
       "      <td>Sunday</td>\n",
       "      <td>NaN</td>\n",
       "      <td>1.0</td>\n",
       "      <td>NaN</td>\n",
       "      <td>NaN</td>\n",
       "      <td>(75, 23)</td>\n",
       "    </tr>\n",
       "    <tr>\n",
       "      <th>4</th>\n",
       "      <td>90272841</td>\n",
       "      <td>No</td>\n",
       "      <td>Male</td>\n",
       "      <td>23</td>\n",
       "      <td>usa</td>\n",
       "      <td>exton pa</td>\n",
       "      <td>JOY</td>\n",
       "      <td>DESPAIR</td>\n",
       "      <td>JOY</td>\n",
       "      <td>DESPAIR</td>\n",
       "      <td>...</td>\n",
       "      <td>NaN</td>\n",
       "      <td>NaN</td>\n",
       "      <td>White and gold</td>\n",
       "      <td>NaN</td>\n",
       "      <td>Friday</td>\n",
       "      <td>NaN</td>\n",
       "      <td>1.0</td>\n",
       "      <td>NaN</td>\n",
       "      <td>NaN</td>\n",
       "      <td>(70, 10)</td>\n",
       "    </tr>\n",
       "    <tr>\n",
       "      <th>5</th>\n",
       "      <td>90272852</td>\n",
       "      <td>No</td>\n",
       "      <td>Male</td>\n",
       "      <td>NaN</td>\n",
       "      <td>NaN</td>\n",
       "      <td>NaN</td>\n",
       "      <td>JOY</td>\n",
       "      <td>DESPAIR</td>\n",
       "      <td>JOY</td>\n",
       "      <td>NaN</td>\n",
       "      <td>...</td>\n",
       "      <td>NaN</td>\n",
       "      <td>NaN</td>\n",
       "      <td>NaN</td>\n",
       "      <td>NaN</td>\n",
       "      <td>NaN</td>\n",
       "      <td>NaN</td>\n",
       "      <td>1.0</td>\n",
       "      <td>NaN</td>\n",
       "      <td>NaN</td>\n",
       "      <td>(75, 23)</td>\n",
       "    </tr>\n",
       "    <tr>\n",
       "      <th>6</th>\n",
       "      <td>90272853</td>\n",
       "      <td>No</td>\n",
       "      <td>Male</td>\n",
       "      <td>53</td>\n",
       "      <td>usa</td>\n",
       "      <td>Colorado</td>\n",
       "      <td>NaN</td>\n",
       "      <td>NaN</td>\n",
       "      <td>NaN</td>\n",
       "      <td>NaN</td>\n",
       "      <td>...</td>\n",
       "      <td>NaN</td>\n",
       "      <td>NaN</td>\n",
       "      <td>NaN</td>\n",
       "      <td>NaN</td>\n",
       "      <td>NaN</td>\n",
       "      <td>NaN</td>\n",
       "      <td>NaN</td>\n",
       "      <td>NaN</td>\n",
       "      <td>NaN</td>\n",
       "      <td>NaN</td>\n",
       "    </tr>\n",
       "    <tr>\n",
       "      <th>7</th>\n",
       "      <td>90272854</td>\n",
       "      <td>No</td>\n",
       "      <td>Male</td>\n",
       "      <td>33</td>\n",
       "      <td>canada</td>\n",
       "      <td>ontario</td>\n",
       "      <td>JOY</td>\n",
       "      <td>DESPAIR</td>\n",
       "      <td>JOY</td>\n",
       "      <td>DESPAIR</td>\n",
       "      <td>...</td>\n",
       "      <td>when the little kids get the big chocolate bar...</td>\n",
       "      <td>first person to give out cans of beer, wins</td>\n",
       "      <td>Blue and black</td>\n",
       "      <td>NaN</td>\n",
       "      <td>Friday</td>\n",
       "      <td>NaN</td>\n",
       "      <td>1.0</td>\n",
       "      <td>NaN</td>\n",
       "      <td>NaN</td>\n",
       "      <td>(55, 5)</td>\n",
       "    </tr>\n",
       "    <tr>\n",
       "      <th>8</th>\n",
       "      <td>90272858</td>\n",
       "      <td>No</td>\n",
       "      <td>Male</td>\n",
       "      <td>40</td>\n",
       "      <td>Canada</td>\n",
       "      <td>Ontario</td>\n",
       "      <td>JOY</td>\n",
       "      <td>DESPAIR</td>\n",
       "      <td>JOY</td>\n",
       "      <td>MEH</td>\n",
       "      <td>...</td>\n",
       "      <td>NaN</td>\n",
       "      <td>NaN</td>\n",
       "      <td>Blue and black</td>\n",
       "      <td>NaN</td>\n",
       "      <td>Sunday</td>\n",
       "      <td>NaN</td>\n",
       "      <td>1.0</td>\n",
       "      <td>NaN</td>\n",
       "      <td>NaN</td>\n",
       "      <td>(76, 24)</td>\n",
       "    </tr>\n",
       "    <tr>\n",
       "      <th>9</th>\n",
       "      <td>90272859</td>\n",
       "      <td>No</td>\n",
       "      <td>Female</td>\n",
       "      <td>53</td>\n",
       "      <td>Us</td>\n",
       "      <td>Wa</td>\n",
       "      <td>MEH</td>\n",
       "      <td>DESPAIR</td>\n",
       "      <td>JOY</td>\n",
       "      <td>MEH</td>\n",
       "      <td>...</td>\n",
       "      <td>NaN</td>\n",
       "      <td>NaN</td>\n",
       "      <td>White and gold</td>\n",
       "      <td>NaN</td>\n",
       "      <td>Sunday</td>\n",
       "      <td>NaN</td>\n",
       "      <td>1.0</td>\n",
       "      <td>NaN</td>\n",
       "      <td>NaN</td>\n",
       "      <td>(70, 28)</td>\n",
       "    </tr>\n",
       "  </tbody>\n",
       "</table>\n",
       "<p>10 rows × 120 columns</p>\n",
       "</div>"
      ],
      "text/plain": [
       "   Internal ID Q1: GOING OUT? Q2: GENDER Q3: AGE Q4: COUNTRY  \\\n",
       "0     90258773            NaN        NaN     NaN         NaN   \n",
       "1     90272821             No       Male      44        USA    \n",
       "2     90272829            NaN       Male      49         USA   \n",
       "3     90272840             No       Male      40          us   \n",
       "4     90272841             No       Male      23         usa   \n",
       "5     90272852             No       Male     NaN         NaN   \n",
       "6     90272853             No       Male      53         usa   \n",
       "7     90272854             No       Male      33      canada   \n",
       "8     90272858             No       Male      40      Canada   \n",
       "9     90272859             No     Female      53          Us   \n",
       "\n",
       "  Q5: STATE, PROVINCE, COUNTY, ETC Q6 | 100 Grand Bar  \\\n",
       "0                              NaN                NaN   \n",
       "1                               NM                MEH   \n",
       "2                         Virginia                NaN   \n",
       "3                               or                MEH   \n",
       "4                         exton pa                JOY   \n",
       "5                              NaN                JOY   \n",
       "6                        Colorado                 NaN   \n",
       "7                          ontario                JOY   \n",
       "8                          Ontario                JOY   \n",
       "9                               Wa                MEH   \n",
       "\n",
       "  Q6 | Anonymous brown globs that come in black and orange wrappers\\t(a.k.a. Mary Janes)  \\\n",
       "0                                                NaN                                       \n",
       "1                                            DESPAIR                                       \n",
       "2                                                NaN                                       \n",
       "3                                            DESPAIR                                       \n",
       "4                                            DESPAIR                                       \n",
       "5                                            DESPAIR                                       \n",
       "6                                                NaN                                       \n",
       "7                                            DESPAIR                                       \n",
       "8                                            DESPAIR                                       \n",
       "9                                            DESPAIR                                       \n",
       "\n",
       "  Q6 | Any full-sized candy bar Q6 | Black Jacks  ...  \\\n",
       "0                           NaN              NaN  ...   \n",
       "1                           JOY              MEH  ...   \n",
       "2                           NaN              NaN  ...   \n",
       "3                           JOY              MEH  ...   \n",
       "4                           JOY          DESPAIR  ...   \n",
       "5                           JOY              NaN  ...   \n",
       "6                           NaN              NaN  ...   \n",
       "7                           JOY          DESPAIR  ...   \n",
       "8                           JOY              MEH  ...   \n",
       "9                           JOY              MEH  ...   \n",
       "\n",
       "                                   Q8: DESPAIR OTHER  \\\n",
       "0                                                NaN   \n",
       "1                                                NaN   \n",
       "2                                                NaN   \n",
       "3                                                NaN   \n",
       "4                                                NaN   \n",
       "5                                                NaN   \n",
       "6                                                NaN   \n",
       "7  when the little kids get the big chocolate bar...   \n",
       "8                                                NaN   \n",
       "9                                                NaN   \n",
       "\n",
       "                                  Q9: OTHER COMMENTS      Q10: DRESS  \\\n",
       "0                                                NaN             NaN   \n",
       "1  Bottom line is Twix is really the only candy w...  White and gold   \n",
       "2                                                NaN             NaN   \n",
       "3                             Raisins can go to hell  White and gold   \n",
       "4                                                NaN  White and gold   \n",
       "5                                                NaN             NaN   \n",
       "6                                                NaN             NaN   \n",
       "7        first person to give out cans of beer, wins  Blue and black   \n",
       "8                                                NaN  Blue and black   \n",
       "9                                                NaN  White and gold   \n",
       "\n",
       "  Unnamed: 113 Q11: DAY Q12: MEDIA [Daily Dish] Q12: MEDIA [Science]  \\\n",
       "0          NaN      NaN                     NaN                  NaN   \n",
       "1          NaN   Sunday                     NaN                  1.0   \n",
       "2          NaN      NaN                     NaN                  NaN   \n",
       "3          NaN   Sunday                     NaN                  1.0   \n",
       "4          NaN   Friday                     NaN                  1.0   \n",
       "5          NaN      NaN                     NaN                  1.0   \n",
       "6          NaN      NaN                     NaN                  NaN   \n",
       "7          NaN   Friday                     NaN                  1.0   \n",
       "8          NaN   Sunday                     NaN                  1.0   \n",
       "9          NaN   Sunday                     NaN                  1.0   \n",
       "\n",
       "  Q12: MEDIA [ESPN] Q12: MEDIA [Yahoo] Click Coordinates (x, y)  \n",
       "0               NaN                NaN                      NaN  \n",
       "1               NaN                NaN                 (84, 25)  \n",
       "2               NaN                NaN                      NaN  \n",
       "3               NaN                NaN                 (75, 23)  \n",
       "4               NaN                NaN                 (70, 10)  \n",
       "5               NaN                NaN                 (75, 23)  \n",
       "6               NaN                NaN                      NaN  \n",
       "7               NaN                NaN                  (55, 5)  \n",
       "8               NaN                NaN                 (76, 24)  \n",
       "9               NaN                NaN                 (70, 28)  \n",
       "\n",
       "[10 rows x 120 columns]"
      ]
     },
     "execution_count": 73,
     "metadata": {},
     "output_type": "execute_result"
    }
   ],
   "source": [
    "import pandas as pd\n",
    "df = pd.read_csv('candyhierarchy2017.csv')\n",
    "df.head(10)"
   ]
  },
  {
   "cell_type": "markdown",
   "metadata": {
    "id": "Kfq0UkhPkV8K"
   },
   "source": [
    "<a id='wrangling'></a>\n",
    "## Data Wrangling\n",
    "\n",
    "\n",
    "\n",
    "### General Properties"
   ]
  },
  {
   "cell_type": "markdown",
   "metadata": {
    "id": "JIw1mUo2kV8K"
   },
   "source": [
    "# 2- show some general properties for the data"
   ]
  },
  {
   "cell_type": "code",
   "execution_count": 8,
   "metadata": {
    "colab": {
     "base_uri": "https://localhost:8080/"
    },
    "id": "trFkrm5zkV8L",
    "outputId": "8aa5ca56-9e16-4d2a-89b0-1821abdc904e"
   },
   "outputs": [
    {
     "name": "stdout",
     "output_type": "stream",
     "text": [
      "<class 'pandas.core.frame.DataFrame'>\n",
      "RangeIndex: 2460 entries, 0 to 2459\n",
      "Columns: 120 entries, Internal ID to Click Coordinates (x, y)\n",
      "dtypes: float64(4), int64(1), object(115)\n",
      "memory usage: 2.3+ MB\n"
     ]
    }
   ],
   "source": [
    "df.info()"
   ]
  },
  {
   "cell_type": "code",
   "execution_count": 9,
   "metadata": {},
   "outputs": [
    {
     "data": {
      "text/plain": [
       "(2460, 120)"
      ]
     },
     "execution_count": 9,
     "metadata": {},
     "output_type": "execute_result"
    }
   ],
   "source": [
    "df.shape"
   ]
  },
  {
   "cell_type": "code",
   "execution_count": 20,
   "metadata": {},
   "outputs": [
    {
     "data": {
      "text/plain": [
       "Internal ID                   int64\n",
       "Q1: GOING OUT?               object\n",
       "Q2: GENDER                   object\n",
       "Q3: AGE                      object\n",
       "Q4: COUNTRY                  object\n",
       "                             ...   \n",
       "Q12: MEDIA [Daily Dish]     float64\n",
       "Q12: MEDIA [Science]        float64\n",
       "Q12: MEDIA [ESPN]           float64\n",
       "Q12: MEDIA [Yahoo]          float64\n",
       "Click Coordinates (x, y)     object\n",
       "Length: 120, dtype: object"
      ]
     },
     "execution_count": 20,
     "metadata": {},
     "output_type": "execute_result"
    }
   ],
   "source": [
    "df.dtypes"
   ]
  },
  {
   "cell_type": "markdown",
   "metadata": {},
   "source": [
    " - notice: age column is object and should be int"
   ]
  },
  {
   "cell_type": "code",
   "execution_count": 25,
   "metadata": {},
   "outputs": [
    {
     "data": {
      "text/plain": [
       "False"
      ]
     },
     "execution_count": 25,
     "metadata": {},
     "output_type": "execute_result"
    }
   ],
   "source": [
    "df.duplicated().any()"
   ]
  },
  {
   "cell_type": "markdown",
   "metadata": {},
   "source": [
    "note: no duplicated rows"
   ]
  },
  {
   "cell_type": "code",
   "execution_count": 26,
   "metadata": {},
   "outputs": [
    {
     "data": {
      "text/plain": [
       "Internal ID                    0\n",
       "Q1: GOING OUT?               110\n",
       "Q2: GENDER                    41\n",
       "Q3: AGE                       84\n",
       "Q4: COUNTRY                   64\n",
       "                            ... \n",
       "Q12: MEDIA [Daily Dish]     2375\n",
       "Q12: MEDIA [Science]        1098\n",
       "Q12: MEDIA [ESPN]           2361\n",
       "Q12: MEDIA [Yahoo]          2393\n",
       "Click Coordinates (x, y)     855\n",
       "Length: 120, dtype: int64"
      ]
     },
     "execution_count": 26,
     "metadata": {},
     "output_type": "execute_result"
    }
   ],
   "source": [
    "df.isna().sum()"
   ]
  },
  {
   "cell_type": "code",
   "execution_count": 29,
   "metadata": {},
   "outputs": [
    {
     "data": {
      "text/plain": [
       "array([nan, '44', '49', '40', '23', '53', '33', '43', '56', '64', '37',\n",
       "       '59', '48', '54', '36', '45', '25', '34', '35', '38', '58', '50',\n",
       "       '47', '16', '52', '63', '65', '41', '27', '31', '61', '46', '42',\n",
       "       '62', '29', '39', '32', '28', '69', '67', '30', '22', '26', '51',\n",
       "       '70', '24', '18', '19', 'Old enough', '57', '60', '66', '12',\n",
       "       'Many', '55', '72', '?', '21', '11', 'no', '9', '68', '20', '6',\n",
       "       '10', '71', '90', '13', '45-55', '312', '99', '7', 'hahahahaha',\n",
       "       '88', '39.4', '74', '102', 'older than dirt', '17', '15', '8',\n",
       "       '75', '5u', 'Enough', 'See question 2', '24-50', '14', 'Over 50',\n",
       "       '100', '76', '1000', 'sixty-nine', '46 Halloweens.', 'ancient',\n",
       "       '77', 'OLD', 'old', '73', '70 1/2', '1', 'MY NAME JEFF', '4',\n",
       "       '59 on the day after Halloween', 'old enough', 'your mom',\n",
       "       'I can remember when Java was a cool new language', '60+'],\n",
       "      dtype=object)"
      ]
     },
     "execution_count": 29,
     "metadata": {},
     "output_type": "execute_result"
    }
   ],
   "source": [
    "df['Q3: AGE'].unique()"
   ]
  },
  {
   "cell_type": "markdown",
   "metadata": {
    "id": "Au-zYVGMkV8L"
   },
   "source": [
    "# 3- summary about what i get form the above functions"
   ]
  },
  {
   "cell_type": "markdown",
   "metadata": {
    "id": "-pdUI-jXkV8L"
   },
   "source": [
    "-  there is a missing values\n",
    "-  wrong data types , There isn't any duplicate's rows\n",
    "-  there is a wrong range and values in age's columns"
   ]
  },
  {
   "cell_type": "markdown",
   "metadata": {
    "id": "uM5eUR26kV8M"
   },
   "source": [
    "# cleaning"
   ]
  },
  {
   "cell_type": "markdown",
   "metadata": {
    "id": "DT7q6VdPkV8M"
   },
   "source": [
    "### 4- drop all the useless columns and  rows with too much NaN ,\n",
    "- useless columns can be like `Internal ID`and can be also columns with too much NaN\n",
    "- I will rename columns for easy access"
   ]
  },
  {
   "cell_type": "code",
   "execution_count": 34,
   "metadata": {
    "colab": {
     "base_uri": "https://localhost:8080/",
     "height": 473
    },
    "id": "ZZBRqVZPkV8M",
    "outputId": "3c7a3a38-2f6f-4036-95dc-4d5e47b248ac"
   },
   "outputs": [
    {
     "data": {
      "text/html": [
       "<div>\n",
       "<style scoped>\n",
       "    .dataframe tbody tr th:only-of-type {\n",
       "        vertical-align: middle;\n",
       "    }\n",
       "\n",
       "    .dataframe tbody tr th {\n",
       "        vertical-align: top;\n",
       "    }\n",
       "\n",
       "    .dataframe thead th {\n",
       "        text-align: right;\n",
       "    }\n",
       "</style>\n",
       "<table border=\"1\" class=\"dataframe\">\n",
       "  <thead>\n",
       "    <tr style=\"text-align: right;\">\n",
       "      <th></th>\n",
       "      <th>Q1</th>\n",
       "      <th>Q2</th>\n",
       "      <th>Q3</th>\n",
       "      <th>Q4</th>\n",
       "      <th>Q5</th>\n",
       "      <th>Q6:kind1</th>\n",
       "      <th>Q6:kind2</th>\n",
       "      <th>Q6:kind3</th>\n",
       "      <th>Q6:kind4</th>\n",
       "      <th>Q6:kind5</th>\n",
       "      <th>...</th>\n",
       "      <th>Q6:kind96</th>\n",
       "      <th>Q6:kind97</th>\n",
       "      <th>Q6:kind98</th>\n",
       "      <th>Q6:kind99</th>\n",
       "      <th>Q6:kind100</th>\n",
       "      <th>Q6:kind101</th>\n",
       "      <th>Q6:kind102</th>\n",
       "      <th>Q6:kind103</th>\n",
       "      <th>Q10</th>\n",
       "      <th>Q11</th>\n",
       "    </tr>\n",
       "  </thead>\n",
       "  <tbody>\n",
       "    <tr>\n",
       "      <th>1</th>\n",
       "      <td>No</td>\n",
       "      <td>Male</td>\n",
       "      <td>44</td>\n",
       "      <td>USA</td>\n",
       "      <td>NM</td>\n",
       "      <td>MEH</td>\n",
       "      <td>DESPAIR</td>\n",
       "      <td>JOY</td>\n",
       "      <td>MEH</td>\n",
       "      <td>DESPAIR</td>\n",
       "      <td>...</td>\n",
       "      <td>DESPAIR</td>\n",
       "      <td>JOY</td>\n",
       "      <td>DESPAIR</td>\n",
       "      <td>DESPAIR</td>\n",
       "      <td>DESPAIR</td>\n",
       "      <td>DESPAIR</td>\n",
       "      <td>DESPAIR</td>\n",
       "      <td>DESPAIR</td>\n",
       "      <td>White and gold</td>\n",
       "      <td>Sunday</td>\n",
       "    </tr>\n",
       "    <tr>\n",
       "      <th>2</th>\n",
       "      <td>No</td>\n",
       "      <td>Male</td>\n",
       "      <td>40</td>\n",
       "      <td>us</td>\n",
       "      <td>or</td>\n",
       "      <td>MEH</td>\n",
       "      <td>DESPAIR</td>\n",
       "      <td>JOY</td>\n",
       "      <td>MEH</td>\n",
       "      <td>MEH</td>\n",
       "      <td>...</td>\n",
       "      <td>MEH</td>\n",
       "      <td>JOY</td>\n",
       "      <td>DESPAIR</td>\n",
       "      <td>JOY</td>\n",
       "      <td>JOY</td>\n",
       "      <td>DESPAIR</td>\n",
       "      <td>DESPAIR</td>\n",
       "      <td>DESPAIR</td>\n",
       "      <td>White and gold</td>\n",
       "      <td>Sunday</td>\n",
       "    </tr>\n",
       "    <tr>\n",
       "      <th>3</th>\n",
       "      <td>No</td>\n",
       "      <td>Male</td>\n",
       "      <td>23</td>\n",
       "      <td>usa</td>\n",
       "      <td>exton pa</td>\n",
       "      <td>JOY</td>\n",
       "      <td>DESPAIR</td>\n",
       "      <td>JOY</td>\n",
       "      <td>DESPAIR</td>\n",
       "      <td>MEH</td>\n",
       "      <td>...</td>\n",
       "      <td>DESPAIR</td>\n",
       "      <td>JOY</td>\n",
       "      <td>MEH</td>\n",
       "      <td>JOY</td>\n",
       "      <td>JOY</td>\n",
       "      <td>DESPAIR</td>\n",
       "      <td>DESPAIR</td>\n",
       "      <td>JOY</td>\n",
       "      <td>White and gold</td>\n",
       "      <td>Friday</td>\n",
       "    </tr>\n",
       "    <tr>\n",
       "      <th>4</th>\n",
       "      <td>No</td>\n",
       "      <td>Male</td>\n",
       "      <td>NaN</td>\n",
       "      <td>NaN</td>\n",
       "      <td>NaN</td>\n",
       "      <td>JOY</td>\n",
       "      <td>DESPAIR</td>\n",
       "      <td>JOY</td>\n",
       "      <td>NaN</td>\n",
       "      <td>NaN</td>\n",
       "      <td>...</td>\n",
       "      <td>MEH</td>\n",
       "      <td>JOY</td>\n",
       "      <td>DESPAIR</td>\n",
       "      <td>DESPAIR</td>\n",
       "      <td>JOY</td>\n",
       "      <td>DESPAIR</td>\n",
       "      <td>DESPAIR</td>\n",
       "      <td>JOY</td>\n",
       "      <td>NaN</td>\n",
       "      <td>NaN</td>\n",
       "    </tr>\n",
       "    <tr>\n",
       "      <th>5</th>\n",
       "      <td>No</td>\n",
       "      <td>Male</td>\n",
       "      <td>33</td>\n",
       "      <td>canada</td>\n",
       "      <td>ontario</td>\n",
       "      <td>JOY</td>\n",
       "      <td>DESPAIR</td>\n",
       "      <td>JOY</td>\n",
       "      <td>DESPAIR</td>\n",
       "      <td>DESPAIR</td>\n",
       "      <td>...</td>\n",
       "      <td>DESPAIR</td>\n",
       "      <td>JOY</td>\n",
       "      <td>JOY</td>\n",
       "      <td>MEH</td>\n",
       "      <td>DESPAIR</td>\n",
       "      <td>DESPAIR</td>\n",
       "      <td>DESPAIR</td>\n",
       "      <td>DESPAIR</td>\n",
       "      <td>Blue and black</td>\n",
       "      <td>Friday</td>\n",
       "    </tr>\n",
       "    <tr>\n",
       "      <th>...</th>\n",
       "      <td>...</td>\n",
       "      <td>...</td>\n",
       "      <td>...</td>\n",
       "      <td>...</td>\n",
       "      <td>...</td>\n",
       "      <td>...</td>\n",
       "      <td>...</td>\n",
       "      <td>...</td>\n",
       "      <td>...</td>\n",
       "      <td>...</td>\n",
       "      <td>...</td>\n",
       "      <td>...</td>\n",
       "      <td>...</td>\n",
       "      <td>...</td>\n",
       "      <td>...</td>\n",
       "      <td>...</td>\n",
       "      <td>...</td>\n",
       "      <td>...</td>\n",
       "      <td>...</td>\n",
       "      <td>...</td>\n",
       "      <td>...</td>\n",
       "    </tr>\n",
       "    <tr>\n",
       "      <th>1774</th>\n",
       "      <td>No</td>\n",
       "      <td>Female</td>\n",
       "      <td>26</td>\n",
       "      <td>USA</td>\n",
       "      <td>Michigan</td>\n",
       "      <td>JOY</td>\n",
       "      <td>MEH</td>\n",
       "      <td>JOY</td>\n",
       "      <td>DESPAIR</td>\n",
       "      <td>MEH</td>\n",
       "      <td>...</td>\n",
       "      <td>JOY</td>\n",
       "      <td>JOY</td>\n",
       "      <td>MEH</td>\n",
       "      <td>MEH</td>\n",
       "      <td>JOY</td>\n",
       "      <td>MEH</td>\n",
       "      <td>MEH</td>\n",
       "      <td>JOY</td>\n",
       "      <td>White and gold</td>\n",
       "      <td>Friday</td>\n",
       "    </tr>\n",
       "    <tr>\n",
       "      <th>1775</th>\n",
       "      <td>No</td>\n",
       "      <td>Male</td>\n",
       "      <td>24</td>\n",
       "      <td>USA</td>\n",
       "      <td>MD</td>\n",
       "      <td>JOY</td>\n",
       "      <td>DESPAIR</td>\n",
       "      <td>MEH</td>\n",
       "      <td>DESPAIR</td>\n",
       "      <td>DESPAIR</td>\n",
       "      <td>...</td>\n",
       "      <td>JOY</td>\n",
       "      <td>JOY</td>\n",
       "      <td>MEH</td>\n",
       "      <td>JOY</td>\n",
       "      <td>DESPAIR</td>\n",
       "      <td>MEH</td>\n",
       "      <td>DESPAIR</td>\n",
       "      <td>MEH</td>\n",
       "      <td>White and gold</td>\n",
       "      <td>Friday</td>\n",
       "    </tr>\n",
       "    <tr>\n",
       "      <th>1776</th>\n",
       "      <td>No</td>\n",
       "      <td>Female</td>\n",
       "      <td>33</td>\n",
       "      <td>USA</td>\n",
       "      <td>New York</td>\n",
       "      <td>MEH</td>\n",
       "      <td>DESPAIR</td>\n",
       "      <td>JOY</td>\n",
       "      <td>NaN</td>\n",
       "      <td>NaN</td>\n",
       "      <td>...</td>\n",
       "      <td>DESPAIR</td>\n",
       "      <td>JOY</td>\n",
       "      <td>NaN</td>\n",
       "      <td>NaN</td>\n",
       "      <td>JOY</td>\n",
       "      <td>DESPAIR</td>\n",
       "      <td>MEH</td>\n",
       "      <td>JOY</td>\n",
       "      <td>Blue and black</td>\n",
       "      <td>Friday</td>\n",
       "    </tr>\n",
       "    <tr>\n",
       "      <th>1777</th>\n",
       "      <td>No</td>\n",
       "      <td>Female</td>\n",
       "      <td>26</td>\n",
       "      <td>USA</td>\n",
       "      <td>Tennessee</td>\n",
       "      <td>MEH</td>\n",
       "      <td>DESPAIR</td>\n",
       "      <td>JOY</td>\n",
       "      <td>DESPAIR</td>\n",
       "      <td>MEH</td>\n",
       "      <td>...</td>\n",
       "      <td>MEH</td>\n",
       "      <td>MEH</td>\n",
       "      <td>MEH</td>\n",
       "      <td>JOY</td>\n",
       "      <td>MEH</td>\n",
       "      <td>DESPAIR</td>\n",
       "      <td>DESPAIR</td>\n",
       "      <td>MEH</td>\n",
       "      <td>Blue and black</td>\n",
       "      <td>Friday</td>\n",
       "    </tr>\n",
       "    <tr>\n",
       "      <th>1778</th>\n",
       "      <td>No</td>\n",
       "      <td>Female</td>\n",
       "      <td>66</td>\n",
       "      <td>usa</td>\n",
       "      <td>Pennsylvania</td>\n",
       "      <td>DESPAIR</td>\n",
       "      <td>DESPAIR</td>\n",
       "      <td>JOY</td>\n",
       "      <td>DESPAIR</td>\n",
       "      <td>DESPAIR</td>\n",
       "      <td>...</td>\n",
       "      <td>DESPAIR</td>\n",
       "      <td>DESPAIR</td>\n",
       "      <td>DESPAIR</td>\n",
       "      <td>JOY</td>\n",
       "      <td>DESPAIR</td>\n",
       "      <td>MEH</td>\n",
       "      <td>DESPAIR</td>\n",
       "      <td>JOY</td>\n",
       "      <td>White and gold</td>\n",
       "      <td>Sunday</td>\n",
       "    </tr>\n",
       "  </tbody>\n",
       "</table>\n",
       "<p>1778 rows × 110 columns</p>\n",
       "</div>"
      ],
      "text/plain": [
       "      Q1      Q2   Q3      Q4            Q5 Q6:kind1 Q6:kind2 Q6:kind3  \\\n",
       "1     No    Male   44    USA             NM      MEH  DESPAIR      JOY   \n",
       "2     No    Male   40      us            or      MEH  DESPAIR      JOY   \n",
       "3     No    Male   23     usa      exton pa      JOY  DESPAIR      JOY   \n",
       "4     No    Male  NaN     NaN           NaN      JOY  DESPAIR      JOY   \n",
       "5     No    Male   33  canada       ontario      JOY  DESPAIR      JOY   \n",
       "...   ..     ...  ...     ...           ...      ...      ...      ...   \n",
       "1774  No  Female   26     USA      Michigan      JOY      MEH      JOY   \n",
       "1775  No    Male   24     USA            MD      JOY  DESPAIR      MEH   \n",
       "1776  No  Female   33     USA      New York      MEH  DESPAIR      JOY   \n",
       "1777  No  Female   26    USA      Tennessee      MEH  DESPAIR      JOY   \n",
       "1778  No  Female   66     usa  Pennsylvania  DESPAIR  DESPAIR      JOY   \n",
       "\n",
       "     Q6:kind4 Q6:kind5  ... Q6:kind96 Q6:kind97 Q6:kind98 Q6:kind99  \\\n",
       "1         MEH  DESPAIR  ...   DESPAIR       JOY   DESPAIR   DESPAIR   \n",
       "2         MEH      MEH  ...       MEH       JOY   DESPAIR       JOY   \n",
       "3     DESPAIR      MEH  ...   DESPAIR       JOY       MEH       JOY   \n",
       "4         NaN      NaN  ...       MEH       JOY   DESPAIR   DESPAIR   \n",
       "5     DESPAIR  DESPAIR  ...   DESPAIR       JOY       JOY       MEH   \n",
       "...       ...      ...  ...       ...       ...       ...       ...   \n",
       "1774  DESPAIR      MEH  ...       JOY       JOY       MEH       MEH   \n",
       "1775  DESPAIR  DESPAIR  ...       JOY       JOY       MEH       JOY   \n",
       "1776      NaN      NaN  ...   DESPAIR       JOY       NaN       NaN   \n",
       "1777  DESPAIR      MEH  ...       MEH       MEH       MEH       JOY   \n",
       "1778  DESPAIR  DESPAIR  ...   DESPAIR   DESPAIR   DESPAIR       JOY   \n",
       "\n",
       "     Q6:kind100 Q6:kind101 Q6:kind102 Q6:kind103             Q10     Q11  \n",
       "1       DESPAIR    DESPAIR    DESPAIR    DESPAIR  White and gold  Sunday  \n",
       "2           JOY    DESPAIR    DESPAIR    DESPAIR  White and gold  Sunday  \n",
       "3           JOY    DESPAIR    DESPAIR        JOY  White and gold  Friday  \n",
       "4           JOY    DESPAIR    DESPAIR        JOY             NaN     NaN  \n",
       "5       DESPAIR    DESPAIR    DESPAIR    DESPAIR  Blue and black  Friday  \n",
       "...         ...        ...        ...        ...             ...     ...  \n",
       "1774        JOY        MEH        MEH        JOY  White and gold  Friday  \n",
       "1775    DESPAIR        MEH    DESPAIR        MEH  White and gold  Friday  \n",
       "1776        JOY    DESPAIR        MEH        JOY  Blue and black  Friday  \n",
       "1777        MEH    DESPAIR    DESPAIR        MEH  Blue and black  Friday  \n",
       "1778    DESPAIR        MEH    DESPAIR        JOY  White and gold  Sunday  \n",
       "\n",
       "[1778 rows x 110 columns]"
      ]
     },
     "execution_count": 34,
     "metadata": {},
     "output_type": "execute_result"
    }
   ],
   "source": [
    "useless_columns = ['Internal ID','Unnamed: 113','Q12: MEDIA [Daily Dish]','Q12: MEDIA [Science]','Q12: MEDIA [ESPN]','Q12: MEDIA [Yahoo]','Click Coordinates (x, y)']\n",
    "df_new = df.drop(useless_columns ,axis = 1)\n",
    "\n",
    "# drop all columns and rows with too much NaN\n",
    "\n",
    "columns_drop = df_new.isna().sum(axis=0) > 1500\n",
    "df_new = df_new.drop(df_new.columns[columns_drop==True],axis= 1)\n",
    "\n",
    "rows_drop = df_new.isna().sum(axis=1) > 50\n",
    "df_new = df_new.drop(df_new.index[rows_drop==True],axis= 0)\n",
    "\n",
    "\n",
    "# rename for all columns\n",
    "\n",
    "new_columns = []\n",
    "x =str(1)\n",
    "for i in df_new.columns :\n",
    "    dd = 'Q6:kind'+ x\n",
    "    if i[:2] != 'Q6' :\n",
    "      new_columns.append(i[:3])\n",
    "    else  :\n",
    "      new_columns.append(dd)\n",
    "      x = str(int(x)+1)\n",
    "        \n",
    "df_new.columns = new_columns\n",
    "df_new.columns = df_new.columns.str.strip(':')\n",
    "\n",
    "# arrange the rows again\n",
    "rename_rows = []\n",
    "for i in range( 1 , df_new.shape[0]+1) :\n",
    "    rename_rows.append(i)\n",
    "df_new.index = rename_rows\n",
    "df_new"
   ]
  },
  {
   "cell_type": "markdown",
   "metadata": {},
   "source": [
    " notice:\n",
    "-       I chose the number 1500 based on the number of data I have, similarly the number 50.\n",
    "-         also note that each column contains Q6 indicating kind of chocolate bars , \n",
    "-        And what the other columns refer to is explained on the first page\n"
   ]
  },
  {
   "cell_type": "markdown",
   "metadata": {
    "id": "aJAk6kMVkV8N"
   },
   "source": [
    "### 5 - clean `going out` column >> Q1"
   ]
  },
  {
   "cell_type": "code",
   "execution_count": 37,
   "metadata": {
    "colab": {
     "base_uri": "https://localhost:8080/"
    },
    "id": "IABsLZ73kV8N",
    "outputId": "722a7748-8d5f-46ee-c307-a1037e7e10be"
   },
   "outputs": [
    {
     "data": {
      "text/plain": [
       "['No', 'Yes', 'Not answered']\n",
       "Categories (3, object): ['No', 'Not answered', 'Yes']"
      ]
     },
     "execution_count": 37,
     "metadata": {},
     "output_type": "execute_result"
    }
   ],
   "source": [
    "df_new.fillna({'Q1':'Not answered'},inplace = True)\n",
    "df_new['Q1'] = df_new['Q1'].str.strip(' ')\n",
    "df_new['Q1'] = df_new['Q1'].astype('category')\n",
    "df_new['Q1'].unique()"
   ]
  },
  {
   "cell_type": "markdown",
   "metadata": {
    "id": "4eQecA8VkV8N"
   },
   "source": [
    "### 6 - clean ` gender` column >> Q2\n"
   ]
  },
  {
   "cell_type": "code",
   "execution_count": 38,
   "metadata": {
    "colab": {
     "base_uri": "https://localhost:8080/"
    },
    "id": "wnT6GSXlkV8N",
    "outputId": "abe7255b-d6a3-46f1-a966-3e31fe3c0043"
   },
   "outputs": [
    {
     "data": {
      "text/plain": [
       "['Male', 'Female', 'I'd rather not say', 'Other', 'Not answered']\n",
       "Categories (5, object): ['Female', 'I'd rather not say', 'Male', 'Not answered', 'Other']"
      ]
     },
     "execution_count": 38,
     "metadata": {},
     "output_type": "execute_result"
    }
   ],
   "source": [
    "df_new.fillna({'Q2':'Not answered'},inplace = True)\n",
    "df_new['Q2'] = df_new['Q2'].str.strip(' ')\n",
    "df_new['Q2'] = df_new['Q2'].astype('category')\n",
    "df_new['Q2'].unique()"
   ]
  },
  {
   "cell_type": "markdown",
   "metadata": {
    "id": "dW_92TILkV8O"
   },
   "source": [
    "### 7 - clean ` age` column >> Q3\n"
   ]
  },
  {
   "cell_type": "code",
   "execution_count": 46,
   "metadata": {
    "id": "OzXgoP8PkV8O"
   },
   "outputs": [
    {
     "data": {
      "text/plain": [
       "array([44, 40, 23, 42, 33, 53, 56, 64, 43, 37, 59, 48, 45, 49, 34, 35, 38,\n",
       "       58, 50, 47, 52, 63, 65, 41, 31, 61, 46, 54, 62, 29, 36, 32, 28, 69,\n",
       "       67, 39, 30, 25, 22, 51, 70, 24, 27, 18, 19, 57, 66, 12, 60, 55, 21,\n",
       "       11, 68, 20,  6, 10, 13, 26,  9, 15,  8, 17,  7, 14, 16,  4])"
      ]
     },
     "execution_count": 46,
     "metadata": {},
     "output_type": "execute_result"
    }
   ],
   "source": [
    "df_new['Q3'] = pd.to_numeric(df_new['Q3'], errors ='coerce')\n",
    "\n",
    "df_new.loc[df_new['Q3'] > 70 , 'Q3' ] = int( df_new['Q3'].mean() )\n",
    "df_new.fillna({'Q3': df_new['Q3'].mean()} , inplace = True)\n",
    "df_new['Q3'] = df_new['Q3'].astype('int')\n",
    "assert df_new['Q3'].max() <= 70\n",
    "assert df_new['Q3'].isna().sum() == 0\n",
    "df_new['Q3'].unique()"
   ]
  },
  {
   "cell_type": "markdown",
   "metadata": {},
   "source": [
    "- notice: I chose number 70 to say for example that he is still able to come"
   ]
  },
  {
   "cell_type": "markdown",
   "metadata": {
    "id": "2wZ6H-STkV8O"
   },
   "source": [
    "### 8 - clean ` country` column >> Q4\n",
    "> note that country column has country names with different writing ways\n",
    "  - I will use fuzzywuzzy to deal with this problem"
   ]
  },
  {
   "cell_type": "code",
   "execution_count": 47,
   "metadata": {},
   "outputs": [
    {
     "data": {
      "text/plain": [
       "array(['USA ', 'us', 'usa', nan, 'canada', 'Canada', 'Us', 'US', 'Murica',\n",
       "       'USA', 'uk', 'United States', 'united states', 'Usa',\n",
       "       'United staes', 'United Kingdom', 'United States of America',\n",
       "       'UAE', 'United States ', 'canada ', 'United states', 'u.s.a.',\n",
       "       'USAUSAUSA', 'america', 'france', 'United States of America ',\n",
       "       'U.S.A.', 'Mexico', 'Canada ', 'united states of america',\n",
       "       'US of A', 'UK', 'Unites States', 'The United States',\n",
       "       'North Carolina ', 'Netherlands', 'Europe', 'Earth', 'U S', 'u.s.',\n",
       "       'Costa Rica', 'The United States of America', 'cascadia',\n",
       "       'insanity lately', 'Greece', 'USA? Hard to tell anymore..',\n",
       "       \"'merica\", 'Pittsburgh', 'United State', 'France', 'U.S.', 'A',\n",
       "       'Can', 'Canae', 'New York', 'Trumpistan', 'Ireland',\n",
       "       'United Sates', 'Korea', 'Australia', 'California', 'Japan', 'USa',\n",
       "       'I pretend to be from Canada, but I am really from the United States.',\n",
       "       'Usa ', 'Iceland', 'Canada`', 'Scotland', 'Denmark', 'France ',\n",
       "       'Uk', 'Switzerland', 'Ahem....Amerca', 'South Korea', 'New Jersey',\n",
       "       'CANADA', 'United Stated', 'Germany', 'America', 'United Statss',\n",
       "       'endland', 'Atlantis', 'murrika', 'Alaska', 'united States ',\n",
       "       'germany', 'N. America', 'USSA', 'Taiwan', 'China', 'spain',\n",
       "       'U.S. ', 'Narnia', 'u s a', 'United Statea',\n",
       "       'subscribe to dm4uz3 on youtube', 'USA USA USA!!!!',\n",
       "       \"I don't know anymore\", 'Fear and Loathing'], dtype=object)"
      ]
     },
     "execution_count": 47,
     "metadata": {},
     "output_type": "execute_result"
    }
   ],
   "source": [
    "df_new['Q4'].unique()\n"
   ]
  },
  {
   "cell_type": "code",
   "execution_count": 51,
   "metadata": {
    "colab": {
     "base_uri": "https://localhost:8080/"
    },
    "id": "SxB0h4CHkV8O",
    "outputId": "ec90d604-8738-4b03-f47a-21b94f809981"
   },
   "outputs": [
    {
     "data": {
      "text/plain": [
       "array(['UNITED STATES', 'UNKOWN', 'CASCADIA', 'MURICA', 'FRANCE',\n",
       "       'MEXICO', 'NORTH CAROLINA', 'NETHERLANDS', 'COSTA RICA', 'GREECE',\n",
       "       'PITTSBURGH', 'NEW YORK', 'TRUMPISTAN', 'ICELAND', 'KOREA',\n",
       "       'AUSTRALIA', 'CALIFORNIA', 'JAPAN', 'SCOTLAND', 'DENMARK',\n",
       "       'SWITZERLAND', 'NEW JERSEY', 'GERMANY', 'TAIWAN', 'CHINA', 'SPAIN'],\n",
       "      dtype=object)"
      ]
     },
     "execution_count": 51,
     "metadata": {},
     "output_type": "execute_result"
    }
   ],
   "source": [
    "\n",
    "from thefuzz import  process\n",
    "df_new['Q4'] = df_new['Q4'].str.upper()\n",
    "df_new['Q4'] = df_new['Q4'].str.strip()\n",
    "\n",
    "categories = pd.Series(['UNITED STATES','AMERICA','CANADA','MURICA','FRANCE','MEXICO','NORTH CAROLINA','NETHERLANDS','COSTA RICA','CASCADIA','GREECE','PITTSBURGH' ,'CANAE','NEW YORK','TRUMPISTAN','ICELAND','KOREA','AUSTRALIA','CALIFORNIA','JAPAN','SCOTLAND','DENMARK','SWITZERLAND','NEW JERSEY','GERMANY','TAIWAN','CHINA','SPAIN',])\n",
    "df_new['Q4'] = df_new['Q4'].replace('US','UNITED STATES')\n",
    "df_new['Q4'] = df_new['Q4'].replace('USA','UNITED STATES')\n",
    "df_new['Q4'] = df_new['Q4'].replace('U.S.A','UNITED STATES')\n",
    "\n",
    "for state in categories :\n",
    "  matches = process.extract(state , df_new['Q4'] , limit= df_new.shape[0] )\n",
    "  for potential_match in matches :\n",
    "    if potential_match[1] >= 70 :\n",
    "      df_new.loc[df_new['Q4'] == potential_match[0],'Q4'] = state\n",
    "\n",
    "\n",
    "df_new.fillna ({'Q4':'Unkown'},inplace = True)\n",
    "df_new['Q4'].unique()\n"
   ]
  },
  {
   "cell_type": "markdown",
   "metadata": {},
   "source": [
    "note :\n",
    "-  I choose categories from >> df_new['Q4'].unique()"
   ]
  },
  {
   "cell_type": "markdown",
   "metadata": {
    "id": "KxKuzZIAkV8O"
   },
   "source": [
    "\n",
    "```\n",
    "\n",
    "### 9 - clean ` area` column >> Q5\n",
    "  area column has the same problem as country columns "
   ]
  },
  {
   "cell_type": "markdown",
   "metadata": {
    "id": "rROU5-0zkV8P"
   },
   "source": [
    "### 10 - clean ` Q6` columns\n",
    ">-  Q6 has all kinds of chocolate bars and questions with three distinct options to choose from (Joy, Meh, Despair).\n",
    "- so all the column that has Q6 is a candy name "
   ]
  },
  {
   "cell_type": "code",
   "execution_count": 61,
   "metadata": {
    "colab": {
     "base_uri": "https://localhost:8080/",
     "height": 487
    },
    "id": "3rdDaolnkV8P",
    "outputId": "e2599ca3-23d2-415c-8025-3c5f15a1223a"
   },
   "outputs": [
    {
     "data": {
      "text/plain": [
       "False"
      ]
     },
     "execution_count": 61,
     "metadata": {},
     "output_type": "execute_result"
    }
   ],
   "source": [
    "columns = df_new.columns[df_new.columns.str.contains('Q6')].str.strip('')\n",
    "df_new[columns] = df_new[columns].fillna('Unkown')\n",
    "df_new[columns].isna().sum().any()"
   ]
  },
  {
   "cell_type": "markdown",
   "metadata": {
    "id": "0yqTIaxukV8P"
   },
   "source": [
    "### 11 - clean ` dress` column >> Q10\n"
   ]
  },
  {
   "cell_type": "code",
   "execution_count": 65,
   "metadata": {
    "colab": {
     "base_uri": "https://localhost:8080/"
    },
    "id": "Z8lPGA1EkV8P",
    "outputId": "58c29eb5-65c6-4738-8bb7-a59dbc6738c0"
   },
   "outputs": [
    {
     "data": {
      "text/plain": [
       "['White and gold', 'Not answered', 'Blue and black']\n",
       "Categories (3, object): ['Blue and black', 'Not answered', 'White and gold']"
      ]
     },
     "execution_count": 65,
     "metadata": {},
     "output_type": "execute_result"
    }
   ],
   "source": [
    "df_new.fillna({'Q10' : 'Not answered'} ,inplace = True)\n",
    "df_new['Q10'] = df_new['Q10'].astype('category')\n",
    "df_new['Q10'].unique()\n"
   ]
  },
  {
   "cell_type": "markdown",
   "metadata": {
    "id": "A_HkxLAJkV8P"
   },
   "source": [
    "### 12 - clean ` day` column >> Q11\n"
   ]
  },
  {
   "cell_type": "code",
   "execution_count": 66,
   "metadata": {
    "colab": {
     "base_uri": "https://localhost:8080/"
    },
    "id": "yhvk2KD9kV8Q",
    "outputId": "859c661e-f651-49d5-c1e6-27ff9dc1acd9"
   },
   "outputs": [
    {
     "data": {
      "text/plain": [
       "['Sunday', 'Friday', 'Not answered']\n",
       "Categories (3, object): ['Friday', 'Not answered', 'Sunday']"
      ]
     },
     "execution_count": 66,
     "metadata": {},
     "output_type": "execute_result"
    }
   ],
   "source": [
    "df_new.fillna({'Q11' : 'Not answered'} ,inplace = True)\n",
    "df_new['Q11'] = df_new['Q11'].astype('category')\n",
    "df_new['Q11'].unique()"
   ]
  },
  {
   "cell_type": "markdown",
   "metadata": {
    "id": "foiXT1TjkV8Q"
   },
   "source": [
    "### 13 - check\n",
    "> after finish cleaning you should make sure your data is clean and that :\n",
    "- there is no wrong data type\n",
    "- there is no NaN values\n",
    "- all the column are cleaing and ready for the next step `EDA`"
   ]
  },
  {
   "cell_type": "code",
   "execution_count": 72,
   "metadata": {},
   "outputs": [
    {
     "data": {
      "text/plain": [
       "Q1            category\n",
       "Q2            category\n",
       "Q3               int32\n",
       "Q4              object\n",
       "Q5              object\n",
       "                ...   \n",
       "Q6:kind101      object\n",
       "Q6:kind102      object\n",
       "Q6:kind103      object\n",
       "Q10           category\n",
       "Q11           category\n",
       "Length: 110, dtype: object"
      ]
     },
     "execution_count": 72,
     "metadata": {},
     "output_type": "execute_result"
    }
   ],
   "source": [
    "assert df_new.isna().sum().all() == 0\n",
    "df_new.dtypes"
   ]
  },
  {
   "cell_type": "markdown",
   "metadata": {
    "id": "EEwNm_s6kV8Q"
   },
   "source": [
    "### 14 - write a summary about all the cleaning steps"
   ]
  },
  {
   "cell_type": "markdown",
   "metadata": {
    "id": "IDohQ8KHkV8Q"
   },
   "source": [
    "\n",
    "- droped all the useless columns and rows with too much NaN , rename columns for easy access and rows.\n",
    "  \n",
    "- Clean going out column.\n",
    "\n",
    "- Clean gender column.\n",
    "- Clean age column , edit a wrong range of values and convert type to numeric.\n",
    "- Clean country column and used fuzzwuzzy to deals with country names with different writing ways.\n",
    "- Clean Q6 columns > > Which refers to the chocolate bars.\n",
    "- Clean dress column.\n",
    "- Clean day column.\n",
    "\n",
    "\n",
    "\n",
    "- And in the end I used assert to check for all cleaning"
   ]
  },
  {
   "cell_type": "markdown",
   "metadata": {},
   "source": [
    "# The End"
   ]
  },
  {
   "cell_type": "markdown",
   "metadata": {},
   "source": [
    "# <hr>"
   ]
  }
 ],
 "metadata": {
  "colab": {
   "provenance": []
  },
  "kernelspec": {
   "display_name": "Python 3 (ipykernel)",
   "language": "python",
   "name": "python3"
  },
  "language_info": {
   "codemirror_mode": {
    "name": "ipython",
    "version": 3
   },
   "file_extension": ".py",
   "mimetype": "text/x-python",
   "name": "python",
   "nbconvert_exporter": "python",
   "pygments_lexer": "ipython3",
   "version": "3.9.13"
  }
 },
 "nbformat": 4,
 "nbformat_minor": 1
}
